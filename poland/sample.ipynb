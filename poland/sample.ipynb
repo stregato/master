{
 "cells": [
  {
   "cell_type": "code",
   "execution_count": 1,
   "id": "fa24d43c",
   "metadata": {},
   "outputs": [
    {
     "name": "stderr",
     "output_type": "stream",
     "text": [
      "time=\"2023-10-22T13:22:29+02:00\" level=info msg=\"sql.OpenDB[init.go:100] - DB /home/mp/.config/poland.db opened\"\n",
      "time=\"2023-10-22T13:22:29+02:00\" level=info msg=\"sql.createTables[init.go:48] - SQL Init stmt (line 0) 'CREATE TABLE IF NOT EXISTS identities (\\n    id VARCHAR(256),\\n    data BLOB,\\n    trusted INTEGER,\\n    PRIMARY KEY(id)\\n);' executed\"\n",
      "time=\"2023-10-22T13:22:29+02:00\" level=info msg=\"sql.createTables[init.go:48] - SQL Init stmt (line 1) 'CREATE INDEX IF NOT EXISTS idx_identities_trust ON identities(trusted);' executed\"\n",
      "time=\"2023-10-22T13:22:29+02:00\" level=info msg=\"sql.prepareStatement[common.go:33] - SQL statement (2) 'SELECT data FROM identities' compiled\"\n",
      "time=\"2023-10-22T13:22:29+02:00\" level=info msg=\"sql.prepareStatement[common.go:33] - SQL statement (3) 'SELECT data FROM identities WHERE id=:id' compiled\"\n",
      "time=\"2023-10-22T13:22:29+02:00\" level=info msg=\"sql.prepareStatement[common.go:33] - SQL statement (4) 'DELETE FROM identities WHERE id=:id' compiled\"\n",
      "time=\"2023-10-22T13:22:29+02:00\" level=info msg=\"sql.prepareStatement[common.go:33] - SQL statement (5) 'INSERT INTO identities(id,data) VALUES(:id,:data)\\n    ON CONFLICT(id) DO UPDATE SET data=:data\\n\\tWHERE id=:id' compiled\"\n",
      "time=\"2023-10-22T13:22:29+02:00\" level=info msg=\"sql.createTables[init.go:48] - SQL Init stmt (line 6) 'CREATE TABLE IF NOT EXISTS configs (\\n    node VARCHAR(128) NOT NULL, \\n    k VARCHAR(64) NOT NULL, \\n    s VARCHAR(64) NOT NULL,\\n    i INTEGER NOT NULL,\\n    b TEXT,\\n    CONSTRAINT pk_safe_key PRIMARY KEY(node,k)\\n);' executed\"\n",
      "time=\"2023-10-22T13:22:29+02:00\" level=info msg=\"sql.prepareStatement[common.go:33] - SQL statement (7) 'SELECT s, i, b FROM configs WHERE node=:node AND k=:key' compiled\"\n",
      "time=\"2023-10-22T13:22:29+02:00\" level=info msg=\"sql.prepareStatement[common.go:33] - SQL statement (8) 'INSERT INTO configs(node,k,s,i,b) VALUES(:node,:key,:s,:i,:b)\\n\\tON CONFLICT(node,k) DO UPDATE SET s=:s,i=:i,b=:b\\n\\tWHERE node=:node AND k=:key' compiled\"\n",
      "time=\"2023-10-22T13:22:29+02:00\" level=info msg=\"sql.prepareStatement[common.go:33] - SQL statement (9) 'DELETE FROM configs WHERE node=:node' compiled\"\n",
      "time=\"2023-10-22T13:22:29+02:00\" level=info msg=\"sql.createTables[init.go:48] - SQL Init stmt (line 10) 'CREATE TABLE IF NOT EXISTS Zone (\\n    portal TEXT PRIMARY KEY,\\n    name TEXT,\\n    value BLOB\\n);' executed\"\n",
      "time=\"2023-10-22T13:22:29+02:00\" level=info msg=\"sql.prepareStatement[common.go:33] - SQL statement (11) 'SELECT name, value FROM Zone WHERE portal=:portal' compiled\"\n",
      "time=\"2023-10-22T13:22:29+02:00\" level=info msg=\"sql.prepareStatement[common.go:33] - SQL statement (12) 'INSERT INTO Zone(portal,name,value) VALUES(:portal,:name,:value)\\n  ON CONFLICT(portal) DO UPDATE SET value=:value, name=:name\\n  WHERE portal=:portal' compiled\"\n",
      "time=\"2023-10-22T13:22:29+02:00\" level=info msg=\"sql.prepareStatement[common.go:33] - SQL statement (13) 'DELETE FROM Zone WHERE portal=:portal AND name=:name' compiled\"\n",
      "time=\"2023-10-22T13:22:29+02:00\" level=info msg=\"sql.createTables[init.go:48] - SQL Init stmt (line 14) 'CREATE TABLE IF NOT EXISTS Header (\\n  safe TEXT NOT NULL,\\n  name TEXT NOT NULL,\\n  size INTEGER NOT NULL,\\n  fileId INTEGER NOT NULL,\\n  base TEXT NOT NULL,\\n  dir TEXT,\\n  depth INTEGER NOT NULL,\\n  modTime INTEGER NOT NULL,\\n  syncTime INTEGER NOT NULL,\\n  tags TEXT,\\n  contentType TEXT,\\n  creator TEXT,\\n  privateId TEXT,\\n  deleted INTEGER,\\n  cacheExpires INTEGER,\\n  header BLOB,\\n  PRIMARY KEY (safe, name, fileId)\\n);' executed\"\n",
      "time=\"2023-10-22T13:22:29+02:00\" level=info msg=\"sql.createTables[init.go:48] - SQL Init stmt (line 15) 'CREATE INDEX IF NOT EXISTS modTimeIndex ON Header (modTime);' executed\"\n",
      "time=\"2023-10-22T13:22:29+02:00\" level=info msg=\"sql.createTables[init.go:48] - SQL Init stmt (line 16) 'CREATE INDEX IF NOT EXISTS fileIdIndex ON Header (fileId);' executed\"\n",
      "time=\"2023-10-22T13:22:29+02:00\" level=info msg=\"sql.createTables[init.go:48] - SQL Init stmt (line 17) 'CREATE INDEX IF NOT EXISTS nameIndex ON Header (name);' executed\"\n",
      "time=\"2023-10-22T13:22:29+02:00\" level=info msg=\"sql.prepareStatement[common.go:33] - SQL statement (18) 'INSERT INTO Header (safe, name, size, fileId, base, dir, depth, modTime, syncTime, tags, contentType, creator, privateId, deleted, cacheExpires, header)\\nVALUES (:safe, :name, :fileId, :size, :base, :dir, :depth, :modTime, :syncTime, :tags, :contentType, :creator, :privateId, :deleted, :cacheExpires, :header)\\nON CONFLICT (safe, name, fileId)  DO NOTHING;' compiled\"\n",
      "time=\"2023-10-22T13:22:29+02:00\" level=info msg=\"sql.prepareStatement[common.go:33] - SQL statement (19) 'UPDATE Header SET header = :header, cacheExpires=:cacheExpires WHERE safe = :safe AND fileId = :fileId' compiled\"\n",
      "time=\"2023-10-22T13:22:29+02:00\" level=info msg=\"sql.prepareStatement[common.go:33] - SQL statement (20) 'UPDATE Header SET deleted = 1 WHERE safe = :safe AND fileId = :fileId' compiled\"\n",
      "time=\"2023-10-22T13:22:29+02:00\" level=info msg=\"sql.prepareStatement[common.go:33] - SQL statement (21) 'SELECT header FROM Header\\nWHERE safe = :safe\\n  AND (:name = '' OR name = :name)\\n  AND (:suffix = '' OR name LIKE '%' || :suffix)\\n  AND (:fileId = 0 OR fileId = :fileId)\\n  AND (:dir = '' OR dir = :dir)\\n  AND (:tags = '' OR tags LIKE '%' || :tags || '%')\\n  AND (:contentType = '' OR contentType = :contentType)\\n  AND (:creator = '' OR creator = :creator)\\n  AND (:noPrivate = 0 OR privateId == '')\\n  AND (:privateId = '' OR (privateId = :privateId AND creator = :currentUser) OR (privateId = :currentUser AND creator = :privateId))\\n  AND (:before < 0 OR modTime < :before)\\n  AND (:after < 0 OR modTime > :after)\\n  AND (:syncAfter < 0 OR syncTime > :syncAfter)\\n  AND (depth >= :fromDepth) \\n  AND (:toDepth = 0 OR depth <= :toDepth)\\n  AND (:includeDeleted == 1 OR deleted = 0)\\n  ORDER BY name LIMIT CASE WHEN :limit = 0 THEN -1 ELSE :limit END OFFSET :offset' compiled\"\n",
      "time=\"2023-10-22T13:22:29+02:00\" level=info msg=\"sql.prepareStatement[common.go:33] - SQL statement (22) 'SELECT header FROM Header\\nWHERE safe = :safe\\n  AND (:name = '' OR name = :name)\\n  AND (:suffix = '' OR name LIKE '%' || :suffix)\\n  AND (:fileId = 0 OR fileId = :fileId)\\n  AND (:dir = '' OR dir = :dir)\\n  AND (:tags = '' OR tags LIKE '%' || :tags || '%')\\n  AND (:contentType = '' OR contentType = :contentType)\\n  AND (:creator = '' OR creator = :creator)\\n  AND (:noPrivate = 0 OR privateId == '')\\n  AND (:privateId = '' OR (privateId = :privateId AND creator = :currentUser) OR (privateId = :currentUser AND creator = :privateId))\\n  AND (:before < 0 OR modTime < :before)\\n  AND (:after < 0 OR modTime > :after)\\n  AND (:syncAfter < 0 OR syncTime > :syncAfter)\\n  AND (depth >= :fromDepth) \\n  AND (:toDepth = 0 OR depth <= :toDepth)\\n  AND (:includeDeleted == 1 OR deleted = 0)\\n  ORDER BY name LIMIT CASE WHEN :limit = 0 THEN -1 ELSE :limit END OFFSET :offset' compiled\"\n",
      "time=\"2023-10-22T13:22:29+02:00\" level=info msg=\"sql.prepareStatement[common.go:33] - SQL statement (23) 'SELECT header FROM Header\\nWHERE safe = :safe\\n  AND (:name = '' OR name = :name)\\n  AND (:suffix = '' OR name LIKE '%' || :suffix)\\n  AND (:fileId = 0 OR fileId = :fileId)\\n  AND (:dir = '' OR dir = :dir)\\n  AND (:tags = '' OR tags LIKE '%' || :tags || '%')\\n  AND (:contentType = '' OR contentType = :contentType)\\n  AND (:creator = '' OR creator = :creator)\\n  AND (:noPrivate = 0 OR privateId == '')\\n  AND (:privateId = '' OR (privateId = :privateId AND creator = :currentUser) OR (privateId = :currentUser AND creator = :privateId))\\n  AND (:before < 0 OR modTime < :before)\\n  AND (:after < 0 OR modTime > :after)\\n  AND (:syncAfter < 0 OR syncTime > :syncAfter)\\n  AND (depth >= :fromDepth) \\n  AND (:toDepth = 0 OR depth <= :toDepth)\\n  AND (:includeDeleted == 1 OR deleted = 0)\\n  ORDER BY name DESC LIMIT CASE WHEN :limit = 0 THEN -1 ELSE :limit END OFFSET :offset' compiled\"\n",
      "time=\"2023-10-22T13:22:29+02:00\" level=info msg=\"sql.prepareStatement[common.go:33] - SQL statement (24) 'SELECT header FROM Header\\nWHERE safe = :safe\\n  AND (:name = '' OR name = :name)\\n  AND (:suffix = '' OR name LIKE '%' || :suffix)\\n  AND (:fileId = 0 OR fileId = :fileId)\\n  AND (:dir = '' OR dir = :dir)\\n  AND (:tags = '' OR tags LIKE '%' || :tags || '%')\\n  AND (:contentType = '' OR contentType = :contentType)\\n  AND (:creator = '' OR creator = :creator)\\n  AND (:noPrivate = 0 OR privateId == '')\\n  AND (:privateId = '' OR (privateId = :privateId AND creator = :currentUser) OR (privateId = :currentUser AND creator = :privateId))\\n  AND (:before < 0 OR modTime < :before)\\n  AND (:after < 0 OR modTime > :after)\\n  AND (:syncAfter < 0 OR syncTime > :syncAfter)\\n  AND (depth >= :fromDepth) \\n  AND (:toDepth = 0 OR depth <= :toDepth)\\n  AND (:includeDeleted == 1 OR deleted = 0)\\n  ORDER BY name DESC LIMIT CASE WHEN :limit = 0 THEN -1 ELSE :limit END OFFSET :offset' compiled\"\n",
      "time=\"2023-10-22T13:22:29+02:00\" level=info msg=\"sql.prepareStatement[common.go:33] - SQL statement (25) 'SELECT distinct dir FROM Header\\nWHERE safe= :safe\\n  AND (:dir=\\\"\\\" OR dir LIKE :dir || '/%')\\n  AND (depth >= :fromDepth) \\n  AND (:toDepth = 0 OR depth <= :toDepth)' compiled\"\n",
      "time=\"2023-10-22T13:22:29+02:00\" level=info msg=\"sql.prepareStatement[common.go:33] - SQL statement (26) 'SELECT header\\nFROM Header\\nWHERE safe = :safe\\n  AND (:name = \\\"\\\" OR name = :name)\\n  AND (fileId = :fileId OR :fileId = 0)\\nORDER BY modTime DESC\\nLIMIT 1;' compiled\"\n",
      "time=\"2023-10-22T13:22:29+02:00\" level=info msg=\"sql.prepareStatement[common.go:33] - SQL statement (27) 'SELECT header FROM Header\\nWHERE cacheExpires > 0\\nORDER BY cacheExpires ASC\\nLIMIT 1;' compiled\"\n",
      "time=\"2023-10-22T13:22:29+02:00\" level=info msg=\"sql.prepareStatement[common.go:33] - SQL statement (28) 'SELECT IFNULL(SUM(size), 0) FROM Header WHERE safe LIKE :quoteGroup || '%' AND deleted = 0;' compiled\"\n",
      "time=\"2023-10-22T13:22:29+02:00\" level=info msg=\"sql.prepareStatement[common.go:33] - SQL statement (29) 'SELECT safe, fileId, dir, size  FROM Header\\nWHERE safe LIKE :quoteGroup || '%' AND deleted = 0\\nORDER BY modTime ASC\\nLIMIT 1;' compiled\"\n",
      "time=\"2023-10-22T13:22:29+02:00\" level=info msg=\"sql.prepareStatement[common.go:33] - SQL statement (30) 'DELETE FROM Header WHERE safe = :safe\\n' compiled\"\n"
     ]
    },
    {
     "name": "stderr",
     "output_type": "stream",
     "text": [
      "time=\"2023-10-22T13:22:29+02:00\" level=info msg=\"core.syncTime[time.go:34] - clock offset -1.261561ms from time.google.com \"\n"
     ]
    }
   ],
   "source": [
    "import poland as p\n",
    "p.start()"
   ]
  },
  {
   "cell_type": "code",
   "execution_count": 2,
   "id": "fe2dd18b",
   "metadata": {},
   "outputs": [
    {
     "data": {
      "text/plain": [
       "John [A5RdrrzYjFo5S2_UbFV956_bzchB4cYmRa9l555y2U3bBxb8rMqo5xeCTIN2ybQf1+NFUyMZ5FEF6cZUuQ26Wgo@]"
      ]
     },
     "execution_count": 2,
     "metadata": {},
     "output_type": "execute_result"
    }
   ],
   "source": [
    "i = p.Identity.new('John')\n",
    "i"
   ]
  },
  {
   "cell_type": "code",
   "execution_count": 3,
   "id": "43ef937b",
   "metadata": {},
   "outputs": [
    {
     "data": {
      "text/plain": [
       "'BLlu1pRkaqjPu5ZRo3BOmosyz1+bT9oC1wHAIG3oqiCTFIboSS9nFPOdUS9epyMIAv5+haZC0_ta6PqcIaeKHcYY8V39FL4zcLW37jC_8t73sDmERVCvMPu3rAMYri2D9C4YvlwBAg36uv+HIhK++S9d4CNSAsCAlQsuNl8uaHepjp_dx0IvMmBEa+Rxr1I8mx1KC+7TgaAeYsuyhaBBKKproPNfi_r_4IBgfVeybxd6YN4Akt2ZSRaPw2s6fbPdXsGhO1PJEM6iKKcabEpYf2ZZBz2akpLi0d8wJeQCumFPvDwO58znHoilfqdRfxgxKnq_2FitSl3sPNGGwt9fOojP_970AAPIdCw@'"
      ]
     },
     "execution_count": 3,
     "metadata": {},
     "output_type": "execute_result"
    }
   ],
   "source": [
    "a = p.encodeAccess(i.id, \"my first safe\", i.id, [\"file:///tmp/poland/first\"])\n",
    "a"
   ]
  },
  {
   "cell_type": "code",
   "execution_count": 4,
   "id": "72b3822b",
   "metadata": {},
   "outputs": [
    {
     "name": "stderr",
     "output_type": "stream",
     "text": [
      "time=\"2023-10-22T13:22:31+02:00\" level=info msg=\"safe.Create[create.go:52] - wiping safe: name my first safe\"\n",
      "time=\"2023-10-22T13:22:31+02:00\" level=info msg=\"safe.Create[create.go:100] - safe created: name my first safe, creator A5RdrrzYjFo5S2_UbFV956_bzchB4cYmRa9l555y2U3bBxb8rMqo5xeCTIN2ybQf1+NFUyMZ5FEF6cZUuQ26Wgo@, description , quota 0\"\n"
     ]
    },
    {
     "data": {
      "text/plain": [
       "my first safe [2]"
      ]
     },
     "execution_count": 4,
     "metadata": {},
     "output_type": "execute_result"
    }
   ],
   "source": [
    "p.Safe.create(i, a, p.CreateOptions(wipe=True))\n",
    "s = p.Safe(i, a)\n",
    "s"
   ]
  },
  {
   "cell_type": "code",
   "execution_count": 6,
   "id": "c7c48049",
   "metadata": {},
   "outputs": [
    {
     "data": {
      "text/plain": [
       "['__class__',\n",
       " '__delattr__',\n",
       " '__dict__',\n",
       " '__dir__',\n",
       " '__doc__',\n",
       " '__eq__',\n",
       " '__format__',\n",
       " '__ge__',\n",
       " '__getattribute__',\n",
       " '__getstate__',\n",
       " '__gt__',\n",
       " '__hash__',\n",
       " '__init__',\n",
       " '__init_subclass__',\n",
       " '__le__',\n",
       " '__lt__',\n",
       " '__module__',\n",
       " '__ne__',\n",
       " '__new__',\n",
       " '__reduce__',\n",
       " '__reduce_ex__',\n",
       " '__repr__',\n",
       " '__setattr__',\n",
       " '__sizeof__',\n",
       " '__str__',\n",
       " '__subclasshook__',\n",
       " '__weakref__',\n",
       " 'access',\n",
       " 'close',\n",
       " 'create',\n",
       " 'creatorId',\n",
       " 'currentUser',\n",
       " 'description',\n",
       " 'getBytes',\n",
       " 'getFile',\n",
       " 'getUsers',\n",
       " 'hnd',\n",
       " 'identity',\n",
       " 'listDir',\n",
       " 'listFiles',\n",
       " 'name',\n",
       " 'permission',\n",
       " 'putBytes',\n",
       " 'putFile',\n",
       " 'quota',\n",
       " 'quotaGroup',\n",
       " 'setUsers',\n",
       " 'size',\n",
       " 'storage']"
      ]
     },
     "execution_count": 6,
     "metadata": {},
     "output_type": "execute_result"
    }
   ],
   "source": []
  },
  {
   "cell_type": "code",
   "execution_count": 7,
   "id": "0fee76d4",
   "metadata": {},
   "outputs": [
    {
     "data": {
      "text/plain": [
       "{'ReadCost': 1e-10, 'WriteCost': 1e-10}"
      ]
     },
     "execution_count": 7,
     "metadata": {},
     "output_type": "execute_result"
    }
   ],
   "source": [
    "s.storage\n"
   ]
  },
  {
   "cell_type": "code",
   "execution_count": null,
   "id": "5c4b38a4",
   "metadata": {},
   "outputs": [],
   "source": []
  }
 ],
 "metadata": {
  "kernelspec": {
   "display_name": "Python 3 (ipykernel)",
   "language": "python",
   "name": "python3"
  },
  "language_info": {
   "codemirror_mode": {
    "name": "ipython",
    "version": 3
   },
   "file_extension": ".py",
   "mimetype": "text/x-python",
   "name": "python",
   "nbconvert_exporter": "python",
   "pygments_lexer": "ipython3",
   "version": "3.11.5"
  }
 },
 "nbformat": 4,
 "nbformat_minor": 5
}
